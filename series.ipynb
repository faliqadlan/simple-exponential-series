{
 "cells": [
  {
   "cell_type": "code",
   "execution_count": 295,
   "metadata": {},
   "outputs": [
    {
     "name": "stdout",
     "output_type": "stream",
     "text": [
      "1.7976931348623157e+308\n",
      "1 2 -4.5 -1 9\n",
      "2 3 9.0 1 27\n",
      "3 4 -20.25 -1 81\n",
      "4 5 48.6 1 243\n",
      "5 6 -121.5 -1 729\n",
      "6 7 312.42857142857144 1 2187\n",
      "7 8 -820.125 -1 6561\n",
      "8 9 2187.0 1 19683\n",
      "9 10 -5904.9 -1 59049\n"
     ]
    },
    {
     "ename": "OverflowError",
     "evalue": "integer division result too large for a float",
     "output_type": "error",
     "traceback": [
      "\u001b[1;31m---------------------------------------------------------------------------\u001b[0m",
      "\u001b[1;31mOverflowError\u001b[0m                             Traceback (most recent call last)",
      "Cell \u001b[1;32mIn[295], line 40\u001b[0m\n\u001b[0;32m     38\u001b[0m \u001b[39m# print(powerDp(1000, 1000, {}))\u001b[39;00m\n\u001b[0;32m     39\u001b[0m \u001b[39mprint\u001b[39m(sys\u001b[39m.\u001b[39mfloat_info\u001b[39m.\u001b[39mmax)\n\u001b[1;32m---> 40\u001b[0m \u001b[39mprint\u001b[39m(LnApproximation(\u001b[39m4\u001b[39;49m, \u001b[39m1000\u001b[39;49m), math\u001b[39m.\u001b[39mlog(\u001b[39m4\u001b[39m))\n",
      "Cell \u001b[1;32mIn[295], line 30\u001b[0m, in \u001b[0;36mLnApproximation\u001b[1;34m(number, iteration)\u001b[0m\n\u001b[0;32m     27\u001b[0m result \u001b[39m=\u001b[39m number\n\u001b[0;32m     29\u001b[0m \u001b[39mfor\u001b[39;00m i \u001b[39min\u001b[39;00m \u001b[39mrange\u001b[39m(\u001b[39m1\u001b[39m, iteration \u001b[39m+\u001b[39m \u001b[39m1\u001b[39m):\n\u001b[1;32m---> 30\u001b[0m     item\u001b[39m=\u001b[39m PowerDp(\u001b[39m-\u001b[39;49m\u001b[39m1\u001b[39;49m, i) \u001b[39m*\u001b[39;49m PowerDp(number, i \u001b[39m+\u001b[39;49m \u001b[39m1\u001b[39;49m, tablePower) \u001b[39m/\u001b[39;49m (i \u001b[39m+\u001b[39;49m \u001b[39m1\u001b[39;49m)\n\u001b[0;32m     31\u001b[0m     \u001b[39mif\u001b[39;00m i \u001b[39m<\u001b[39m \u001b[39m10\u001b[39m:\n\u001b[0;32m     32\u001b[0m         \u001b[39mprint\u001b[39m(i, i\u001b[39m+\u001b[39m\u001b[39m1\u001b[39m, item, PowerDp(\u001b[39m-\u001b[39m\u001b[39m1\u001b[39m, i),  PowerDp(number, i \u001b[39m+\u001b[39m \u001b[39m1\u001b[39m, tablePower))\n",
      "\u001b[1;31mOverflowError\u001b[0m: integer division result too large for a float"
     ]
    }
   ],
   "source": [
    "import math, sys\n",
    "\n",
    "def PowerDp(number, power, table = {}) -> int:\n",
    "    if power in table:\n",
    "        return table[power]\n",
    "    if power == 0:\n",
    "        table[0] = 1\n",
    "        return 1\n",
    "    if power == 1:\n",
    "        table[1] = number\n",
    "        return number\n",
    "    if power % 2 == 0:\n",
    "        half_power = power // 2\n",
    "        res = PowerDp(number, half_power, table) * PowerDp(number, half_power, table)\n",
    "    else:\n",
    "        half_power = power // 2\n",
    "        res = PowerDp(number, half_power, table) * PowerDp(number, half_power, table) * number\n",
    "\n",
    "    table[power] = res\n",
    "    return res\n",
    "\n",
    "def LnApproximation(number: int, iteration: int):\n",
    "    tablePower = {}\n",
    "    # Set the precision of the decimal context\n",
    "    decimal.getcontext().prec = iteration\n",
    "    # Create decimal objects from integers\n",
    "    number = decimal.Decimal(number)\n",
    "    one = decimal.Decimal(1)\n",
    "    minus_one = decimal.Decimal(-1)\n",
    "    if number <= one:\n",
    "        return 0\n",
    "    number = number - one\n",
    "    result = number\n",
    "\n",
    "    for i in range(1, iteration + 1):\n",
    "        item= PowerDp(minus_one, i) * PowerDp(number, i + 1, tablePower) / (i + 1)\n",
    "        if i < 10:\n",
    "            print(i, i+1, item, PowerDp(minus_one, i),  PowerDp(number, i + 1, tablePower))\n",
    "        result += item\n",
    "\n",
    "    print(tablePower)\n",
    "    return round(result, 3)\n",
    "\n",
    "\n",
    "# print(powerDp(1000, 1000, {}))\n",
    "print(sys.float_info.max)\n",
    "print(LnApproximation(4, 1000), math.log(4))\n"
   ]
  }
 ],
 "metadata": {
  "kernelspec": {
   "display_name": "Python 3",
   "language": "python",
   "name": "python3"
  },
  "language_info": {
   "codemirror_mode": {
    "name": "ipython",
    "version": 3
   },
   "file_extension": ".py",
   "mimetype": "text/x-python",
   "name": "python",
   "nbconvert_exporter": "python",
   "pygments_lexer": "ipython3",
   "version": "3.11.4"
  },
  "orig_nbformat": 4
 },
 "nbformat": 4,
 "nbformat_minor": 2
}
