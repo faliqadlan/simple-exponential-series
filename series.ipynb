{
 "cells": [
  {
   "cell_type": "code",
   "execution_count": 147,
   "metadata": {},
   "outputs": [
    {
     "ename": "OverflowError",
     "evalue": "integer division result too large for a float",
     "output_type": "error",
     "traceback": [
      "\u001b[1;31m---------------------------------------------------------------------------\u001b[0m",
      "\u001b[1;31mOverflowError\u001b[0m                             Traceback (most recent call last)",
      "Cell \u001b[1;32mIn[147], line 37\u001b[0m\n\u001b[0;32m     33\u001b[0m     \u001b[39m# print(table)\u001b[39;00m\n\u001b[0;32m     34\u001b[0m     \u001b[39m# print(tablePower)\u001b[39;00m\n\u001b[0;32m     35\u001b[0m     \u001b[39mreturn\u001b[39;00m \u001b[39msum\u001b[39m(table\u001b[39m.\u001b[39mvalues())\n\u001b[1;32m---> 37\u001b[0m \u001b[39mprint\u001b[39m(LnApproximation(\u001b[39m10\u001b[39;49m, \u001b[39m1000\u001b[39;49m), math\u001b[39m.\u001b[39mlog(\u001b[39m10\u001b[39m))\n",
      "Cell \u001b[1;32mIn[147], line 31\u001b[0m, in \u001b[0;36mLnApproximation\u001b[1;34m(number, iteration)\u001b[0m\n\u001b[0;32m     28\u001b[0m table[\u001b[39m0\u001b[39m] \u001b[39m=\u001b[39m number\n\u001b[0;32m     30\u001b[0m \u001b[39mfor\u001b[39;00m i \u001b[39min\u001b[39;00m \u001b[39mrange\u001b[39m(\u001b[39m1\u001b[39m, iteration \u001b[39m+\u001b[39m \u001b[39m1\u001b[39m):\n\u001b[1;32m---> 31\u001b[0m     table[i] \u001b[39m=\u001b[39m PowerDp(\u001b[39m-\u001b[39;49m\u001b[39m1\u001b[39;49m, i) \u001b[39m*\u001b[39;49m PowerDp(number, i \u001b[39m+\u001b[39;49m \u001b[39m1\u001b[39;49m, tablePower) \u001b[39m/\u001b[39;49m (i \u001b[39m+\u001b[39;49m \u001b[39m1\u001b[39;49m)\n\u001b[0;32m     33\u001b[0m \u001b[39m# print(table)\u001b[39;00m\n\u001b[0;32m     34\u001b[0m \u001b[39m# print(tablePower)\u001b[39;00m\n\u001b[0;32m     35\u001b[0m \u001b[39mreturn\u001b[39;00m \u001b[39msum\u001b[39m(table\u001b[39m.\u001b[39mvalues())\n",
      "\u001b[1;31mOverflowError\u001b[0m: integer division result too large for a float"
     ]
    }
   ],
   "source": [
    "import math\n",
    "\n",
    "def PowerDp(number, power, table = {}) -> int:\n",
    "    if power in table:\n",
    "        return table[power]\n",
    "    if power == 0:\n",
    "        table[0] = 1\n",
    "        return 1\n",
    "    if power == 1:\n",
    "        table[1] = number\n",
    "        return number\n",
    "    if power % 2 == 0:\n",
    "        half_power = power // 2\n",
    "        res = PowerDp(number, half_power, table) * PowerDp(number, half_power, table)\n",
    "    else:\n",
    "        half_power = power // 2\n",
    "        res = PowerDp(number, half_power, table) * PowerDp(number, half_power, table) * number\n",
    "\n",
    "    table[power] = res\n",
    "    return res\n",
    "\n",
    "def LnApproximation(number: int, iteration: int):\n",
    "    table = {}\n",
    "    tablePower = {}\n",
    "    if number <= 1:\n",
    "        return 0\n",
    "    number = number - 1\n",
    "    table[0] = number\n",
    "\n",
    "    for i in range(1, iteration + 1):\n",
    "        table[i] = PowerDp(-1, i) * PowerDp(number, i + 1, tablePower) / (i + 1)\n",
    "\n",
    "    # print(table)\n",
    "    # print(tablePower)\n",
    "    return sum(table.values())\n",
    "\n",
    "print(LnApproximation(10, 1000), math.log(10))\n"
   ]
  },
  {
   "cell_type": "code",
   "execution_count": 143,
   "metadata": {},
   "outputs": [
    {
     "name": "stdout",
     "output_type": "stream",
     "text": [
      "2.1280457126184775e+94 2.302585092994046\n"
     ]
    }
   ],
   "source": [
    "\n",
    "\n",
    "\n"
   ]
  },
  {
   "cell_type": "code",
   "execution_count": null,
   "metadata": {},
   "outputs": [],
   "source": []
  }
 ],
 "metadata": {
  "kernelspec": {
   "display_name": "Python 3",
   "language": "python",
   "name": "python3"
  },
  "language_info": {
   "codemirror_mode": {
    "name": "ipython",
    "version": 3
   },
   "file_extension": ".py",
   "mimetype": "text/x-python",
   "name": "python",
   "nbconvert_exporter": "python",
   "pygments_lexer": "ipython3",
   "version": "3.11.4"
  },
  "orig_nbformat": 4
 },
 "nbformat": 4,
 "nbformat_minor": 2
}
