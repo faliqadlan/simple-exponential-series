{
 "cells": [
  {
   "cell_type": "code",
   "execution_count": 352,
   "metadata": {},
   "outputs": [],
   "source": [
    "import math, sys, decimal\n",
    "\n",
    "def PowerDp(number, power, table = {}) -> int:\n",
    "    if power in table:\n",
    "        return table[power]\n",
    "    if power == 0:\n",
    "        table[0] = 1\n",
    "        return 1\n",
    "    if power == 1:\n",
    "        table[1] = number\n",
    "        return number\n",
    "    if power % 2 == 0:\n",
    "        half_power = power // 2\n",
    "        res = PowerDp(number, half_power, table) * PowerDp(number, half_power, table)\n",
    "    else:\n",
    "        half_power = power // 2\n",
    "        res = PowerDp(number, half_power, table) * PowerDp(number, half_power, table) * number\n",
    "\n",
    "    table[power] = res\n",
    "    return res\n",
    "\n",
    "def LnApproximation(number: int, iteration: int = 10*10000):\n",
    "    table = {}\n",
    "    tablePower = {}\n",
    "    if number <= 1:\n",
    "        return 0\n",
    "    number = number - 1\n",
    "    result = number\n",
    "\n",
    "    for i in range(1, iteration + 1):\n",
    "        result += PowerDp(-1, i) * PowerDp(number, i + 1, tablePower) / (i + 1)\n",
    "\n",
    "    return result\n",
    "\n"
   ]
  }
 ],
 "metadata": {
  "kernelspec": {
   "display_name": "Python 3",
   "language": "python",
   "name": "python3"
  },
  "language_info": {
   "codemirror_mode": {
    "name": "ipython",
    "version": 3
   },
   "file_extension": ".py",
   "mimetype": "text/x-python",
   "name": "python",
   "nbconvert_exporter": "python",
   "pygments_lexer": "ipython3",
   "version": "3.11.4"
  },
  "orig_nbformat": 4
 },
 "nbformat": 4,
 "nbformat_minor": 2
}
